{
 "cells": [
  {
   "cell_type": "code",
   "execution_count": 17,
   "metadata": {
    "collapsed": false
   },
   "outputs": [],
   "source": [
    "import numpy as np\n",
    "from math import ceil, sqrt\n",
    "from cvxpy import *\n",
    "import cvx"
   ]
  },
  {
   "cell_type": "code",
   "execution_count": 39,
   "metadata": {
    "collapsed": false,
    "scrolled": true
   },
   "outputs": [],
   "source": [
    "m = 10\n",
    "n = 5\n",
    "numpy.random.seed(1)\n",
    "A = numpy.random.randn(m, n)\n",
    "b = numpy.random.randn(m, 1)\n",
    "\n",
    "# Construct the problem.\n",
    "x = Variable(n)\n",
    "objective = Minimize(np.ones(n) * x)\n",
    "constraints = [A * x <= b]\n",
    "prob = Problem(objective, constraints)"
   ]
  },
  {
   "cell_type": "code",
   "execution_count": 41,
   "metadata": {
    "collapsed": false
   },
   "outputs": [
    {
     "data": {
      "text/plain": [
       "{'_cached_data': {'CBC': <cvxpy.problems.problem_data.problem_data.ProblemData at 0x109de4cf8>,\n",
       "  'CVXOPT': <cvxpy.problems.problem_data.problem_data.ProblemData at 0x109de4cc0>,\n",
       "  'ECOS': <cvxpy.problems.problem_data.problem_data.ProblemData at 0x11c3aa748>,\n",
       "  'ECOS_BB': <cvxpy.problems.problem_data.problem_data.ProblemData at 0x11c3aa6d8>,\n",
       "  'ELEMENTAL': <cvxpy.problems.problem_data.problem_data.ProblemData at 0x109de45f8>,\n",
       "  'GLPK': <cvxpy.problems.problem_data.problem_data.ProblemData at 0x109de4e48>,\n",
       "  'GLPK_MI': <cvxpy.problems.problem_data.problem_data.ProblemData at 0x11c3aa978>,\n",
       "  'GUROBI': <cvxpy.problems.problem_data.problem_data.ProblemData at 0x109de4da0>,\n",
       "  'JULIA_OPT': <cvxpy.problems.problem_data.problem_data.ProblemData at 0x11c3aa710>,\n",
       "  'LS': <cvxpy.problems.problem_data.problem_data.ProblemData at 0x109de4fd0>,\n",
       "  'MOSEK': <cvxpy.problems.problem_data.problem_data.ProblemData at 0x11c3aa400>,\n",
       "  'SCS': <cvxpy.problems.problem_data.problem_data.ProblemData at 0x11c3aa908>,\n",
       "  'XPRESS': <cvxpy.problems.problem_data.problem_data.ProblemData at 0x109de4e80>,\n",
       "  'parallel': CachedProblem(objective=None, constraints=None)},\n",
       " '_separable_problems': None,\n",
       " '_size_metrics': <cvxpy.problems.problem.SizeMetrics at 0x11c3aa198>,\n",
       " '_solver_stats': None,\n",
       " '_status': None,\n",
       " '_value': None,\n",
       " 'constraints': [LeqConstraint(Expression(AFFINE, UNKNOWN, (10, 1)), Constant(CONSTANT, UNKNOWN, (10, 1)))],\n",
       " 'objective': Minimize(Expression(AFFINE, UNKNOWN, (1, 1)))}"
      ]
     },
     "execution_count": 41,
     "metadata": {},
     "output_type": "execute_result"
    }
   ],
   "source": [
    "prob.__dict__"
   ]
  },
  {
   "cell_type": "markdown",
   "metadata": {},
   "source": [
    "# Linear Programming"
   ]
  },
  {
   "cell_type": "code",
   "execution_count": 4,
   "metadata": {
    "collapsed": false
   },
   "outputs": [],
   "source": [
    "# Parameters\n",
    "\n",
    "K = 5 # integer, noise dim\n",
    "n = 10  # integer, x dim\n",
    "m = 7 # integer, number of constraints\n",
    "\n",
    "P = np.random.rand(n, K) # Matrix n x K shape of ellipsoidal uncertainty\n",
    "A = np.random.rand(n, m) # Matrix n x m\n",
    "B = np.random.rand(m) # Vector m"
   ]
  },
  {
   "cell_type": "code",
   "execution_count": 22,
   "metadata": {
    "collapsed": true
   },
   "outputs": [],
   "source": [
    "def oracle(U, A, B, eps):\n",
    "    return np.linalg.pinv((A + P.dot(U.T)).T).dot(B)"
   ]
  },
  {
   "cell_type": "code",
   "execution_count": 6,
   "metadata": {
    "collapsed": true
   },
   "outputs": [],
   "source": [
    "def update_u(u_prev, x, P, eta):\n",
    "    vec = u_prev + eta * P.T.dot(x)\n",
    "    return vec / max(np.linalg.norm(vec, 2), 1)"
   ]
  },
  {
   "cell_type": "code",
   "execution_count": 30,
   "metadata": {
    "collapsed": true
   },
   "outputs": [],
   "source": [
    "def dual_subgradient_robust(eps, D, G):\n",
    "    T = ceil(G ** 2 * D ** 2 / eps ** 2)\n",
    "    eta =  D / (G * sqrt(T))\n",
    "    U = np.random.rand(m, K)\n",
    "    U_prev = np.random.rand(K)\n",
    "    X = np.zeros((T, n))\n",
    "    X_prev = np.random.rand(n)\n",
    "    for t in range(T):\n",
    "        for i in range(m):\n",
    "            U_prev = update_u(U_prev, X_prev, P, eta)\n",
    "            U[i] = U_prev\n",
    "        X_prev = oracle(U, A, B, eps)\n",
    "        if X_prev is None:\n",
    "            return None\n",
    "        else:\n",
    "            X[t] = X_prev\n",
    "    return np.mean(X, axis=0)"
   ]
  },
  {
   "cell_type": "code",
   "execution_count": 31,
   "metadata": {
    "collapsed": false,
    "scrolled": true
   },
   "outputs": [],
   "source": [
    "eps = 1e-1\n",
    "D = 2\n",
    "G = 1\n",
    "\n",
    "res = dual_subgradient_robust(eps, D, G)"
   ]
  },
  {
   "cell_type": "code",
   "execution_count": 33,
   "metadata": {
    "collapsed": false
   },
   "outputs": [
    {
     "data": {
      "text/plain": [
       "array([-0.20558111,  0.01904341,  0.19525488, -0.41798284, -0.22132591,\n",
       "       -0.19843838,  0.36747816,  0.3727173 , -0.35025577,  0.46855103])"
      ]
     },
     "execution_count": 33,
     "metadata": {},
     "output_type": "execute_result"
    }
   ],
   "source": [
    "res"
   ]
  },
  {
   "cell_type": "code",
   "execution_count": null,
   "metadata": {
    "collapsed": true
   },
   "outputs": [],
   "source": []
  }
 ],
 "metadata": {
  "kernelspec": {
   "display_name": "Python 3",
   "language": "python",
   "name": "python3"
  },
  "language_info": {
   "codemirror_mode": {
    "name": "ipython",
    "version": 3
   },
   "file_extension": ".py",
   "mimetype": "text/x-python",
   "name": "python",
   "nbconvert_exporter": "python",
   "pygments_lexer": "ipython3",
   "version": "3.5.0"
  }
 },
 "nbformat": 4,
 "nbformat_minor": 0
}
